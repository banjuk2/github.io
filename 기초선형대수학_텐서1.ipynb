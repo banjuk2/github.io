{
  "nbformat": 4,
  "nbformat_minor": 0,
  "metadata": {
    "colab": {
      "provenance": [],
      "authorship_tag": "ABX9TyMnp8mMGmZNCY78O8VtQls5",
      "include_colab_link": true
    },
    "kernelspec": {
      "name": "python3",
      "display_name": "Python 3"
    },
    "language_info": {
      "name": "python"
    }
  },
  "cells": [
    {
      "cell_type": "markdown",
      "metadata": {
        "id": "view-in-github",
        "colab_type": "text"
      },
      "source": [
        "<a href=\"https://colab.research.google.com/github/banjuk2/github.io/blob/master/%EA%B8%B0%EC%B4%88%EC%84%A0%ED%98%95%EB%8C%80%EC%88%98%ED%95%99_%ED%85%90%EC%84%9C1.ipynb\" target=\"_parent\"><img src=\"https://colab.research.google.com/assets/colab-badge.svg\" alt=\"Open In Colab\"/></a>"
      ]
    },
    {
      "cell_type": "code",
      "execution_count": 1,
      "metadata": {
        "id": "P3xzspegdJsJ"
      },
      "outputs": [],
      "source": [
        "import numpy as np"
      ]
    },
    {
      "cell_type": "markdown",
      "source": [],
      "metadata": {
        "id": "Bbn-h6Txd7c7"
      }
    },
    {
      "cell_type": "markdown",
      "source": [
        "스칼라\n",
        "\n",
        "1. 단순한 숫자\n",
        "2. 방향상 없음\n",
        "3. 무조건 크기만 있음.\n",
        "4. 랭크 0인 텐서"
      ],
      "metadata": {
        "id": "ENtiE8NKd_gh"
      }
    },
    {
      "cell_type": "code",
      "source": [
        "#scalar 예시\n",
        "a=np.array(5)\n",
        "print('값 = ', a)\n",
        "print('형태 = ', a.shape)"
      ],
      "metadata": {
        "colab": {
          "base_uri": "https://localhost:8080/"
        },
        "id": "s8ct2HHqdbJY",
        "outputId": "af1442f2-3cb6-4d80-ff54-dba31cf3e8c1"
      },
      "execution_count": 2,
      "outputs": [
        {
          "output_type": "stream",
          "name": "stdout",
          "text": [
            "값 =  5\n",
            "형태 =  ()\n"
          ]
        }
      ]
    },
    {
      "cell_type": "markdown",
      "source": [
        "벡터 \n",
        "1. 숫자들의 배열 \n",
        "2. 크기와 방향 개념 존재 - 차원 등장 \n",
        "3. 예시: 속도 \n",
        "4. 랭크 1 텐서(스칼라보다 한차원 더 고차원)"
      ],
      "metadata": {
        "id": "mwkRJGDmdg11"
      }
    },
    {
      "cell_type": "code",
      "source": [
        "# 벡터예시 \n",
        "vec1 = np.array( [5] ) # 벡터는 리스트 형태로 만들어 주어야 함 \n",
        "print('값 = ', vec1)\n",
        "print('형태 = ', vec1.shape)"
      ],
      "metadata": {
        "colab": {
          "base_uri": "https://localhost:8080/"
        },
        "id": "GJmBphPNefGI",
        "outputId": "30cbace4-83bc-4dcd-ae87-7a30f804189b"
      },
      "execution_count": 3,
      "outputs": [
        {
          "output_type": "stream",
          "name": "stdout",
          "text": [
            "값 =  [5]\n",
            "형태 =  (1,)\n"
          ]
        }
      ]
    },
    {
      "cell_type": "code",
      "source": [
        "#2차원, 3차원, ....., n차원 \n",
        "vec2 = np.array( [2,4] ) # 2차원\n",
        "print('값 = ', vec2)\n",
        "print('형태 = ', vec2.shape)\n",
        "\n",
        "vec3 = np.array( [1,2,3] ) # 3차원 \n",
        "print('값 = ', vec3)\n",
        "print('형태 = ', vec3.shape)\n",
        "\n",
        "vec5 = np.array([-1,2,3,4,5])\n",
        "print('값 = ', vec5)\n",
        "print('형태 = ', vec5.shape)"
      ],
      "metadata": {
        "colab": {
          "base_uri": "https://localhost:8080/"
        },
        "id": "vSaH8OAuev0m",
        "outputId": "3c9bab73-00f3-48ac-c9e2-e9465e820fdb"
      },
      "execution_count": 4,
      "outputs": [
        {
          "output_type": "stream",
          "name": "stdout",
          "text": [
            "값 =  [2 4]\n",
            "형태 =  (2,)\n",
            "값 =  [1 2 3]\n",
            "형태 =  (3,)\n",
            "값 =  [-1  2  3  4  5]\n",
            "형태 =  (5,)\n"
          ]
        }
      ]
    },
    {
      "cell_type": "markdown",
      "source": [
        "행렬 \n",
        "1. 수의 배열 \n",
        "2. 벡터와 벡터끼리의 연관성 이해 \n",
        "3. 선형방정식의 뿌리 ex) 소와 닭은 합해서 8마리, 다리개수는 26개, 소와 닭은 각각 몇마리인가? \n",
        "4. 랭크 2 텐서 "
      ],
      "metadata": {
        "id": "ROnN8oMgg1Ux"
      }
    },
    {
      "cell_type": "code",
      "source": [
        "# 2X2 정방행렬 \n",
        "mat1= np.array( [ [1,1], [4,2] ] ) \n",
        "print('값 = ', mat1)\n",
        "print('형태 = ', mat1.shape)\n",
        "\n",
        "# 4X3 정방행렬 \n",
        "mat2 = np.array([ [1,2,3], [1,2,3], [1,2,3], [1,2,3] ] ) # 3개의 행렬이 4개가 있다. \n",
        "print('값 = ', mat2)\n",
        "print('형태 = ', mat2.shape)"
      ],
      "metadata": {
        "colab": {
          "base_uri": "https://localhost:8080/"
        },
        "id": "rDGJ9G8sgpIe",
        "outputId": "66b5c90c-6a4a-4542-87d0-a6272580f192"
      },
      "execution_count": 10,
      "outputs": [
        {
          "output_type": "stream",
          "name": "stdout",
          "text": [
            "값 =  [[1 1]\n",
            " [4 2]]\n",
            "형태 =  (2, 2)\n",
            "값 =  [[1 2 3]\n",
            " [1 2 3]\n",
            " [1 2 3]\n",
            " [1 2 3]]\n",
            "형태 =  (4, 3)\n"
          ]
        }
      ]
    },
    {
      "cell_type": "code",
      "source": [],
      "metadata": {
        "id": "QXXQmu6MhXP3"
      },
      "execution_count": null,
      "outputs": []
    }
  ]
}